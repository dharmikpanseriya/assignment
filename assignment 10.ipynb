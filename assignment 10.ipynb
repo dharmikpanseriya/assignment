{
 "cells": [
  {
   "cell_type": "code",
   "execution_count": null,
   "id": "b5f4f2fe",
   "metadata": {},
   "outputs": [],
   "source": [
    "1. How do you distinguish between shutil.copy() and shutil.copytree()?\n",
    "\n",
    "=shutil.copy() method is used to copy the contents of a file from one file to another file/folder,\n",
    "it primary takes two arguments src,dest, src represents the file to be copied where as destination\n",
    "refers to the file/folder to where the src data should be copied, if dest is a folder name the \n",
    "src with exact name will be copied to the dest folder, if its a file then the contents of src will\n",
    "be copied to dest where dest retains it name.\n",
    "\n",
    "shutil.copytree() function is used to copy the entire contents of a folder to other folder. it \n",
    "also takes two arguments src & dest, it copies all the content recursively and stores it in dest.\n",
    "the important catch here is dest must not exist prior to this and it will be created during the \n",
    "copy operation. Permissions and times of directories are copied with shutil.copystat() and \n",
    "individual files are copied using shutil.copy2() by default which can be modified using \n",
    "copy_function attribute."
   ]
  },
  {
   "cell_type": "code",
   "execution_count": null,
   "id": "5851c8bf",
   "metadata": {},
   "outputs": [],
   "source": [
    "2. What function is used to rename files??\n",
    "\n",
    "=os.rename() function is used to rename files or directories using a python program, this function\n",
    "takes two arguments src and dest, src represents the name file/directory which we want to rename,\n",
    "whereas dest represents the new name of the file/directory."
   ]
  },
  {
   "cell_type": "code",
   "execution_count": null,
   "id": "cedcbcfb",
   "metadata": {},
   "outputs": [],
   "source": [
    "3. What is the difference between the delete functions in the send2trash and shutil modules?\n",
    "\n",
    "=Shutil module provides a funciton called as shutil.rmtree() which deletes a directory and all its\n",
    "contents. The other functions with similar functionality are os.remove() -> removes a file, \n",
    "os.rmdir() removes a empty directory. The problem with these functions is once a file is deleted.\n",
    "it will be lost permanently, if a file is deleted accidentally using these methods there is no way\n",
    "we can recover the deleted file\n",
    "\n",
    "Where as send2trash module provides a function called send2trash.send2trash() to delete a \n",
    "file/directory. these methods moves the files/directories to trash folder instead of permanently\n",
    "deleting them. hence if a file/folder is deleted accidentally it can be still recovered from trash\n",
    "folder, if is deleted using the send2trash.send2trash() function. send2trash is not included with\n",
    "python standard libary like os & shutil modules. it needs to be installed explicitly using the \n",
    "command !pip install send2trash"
   ]
  },
  {
   "cell_type": "code",
   "execution_count": null,
   "id": "a624a985",
   "metadata": {},
   "outputs": [],
   "source": [
    "4.ZipFile objects have a close() method just like File objects’ close() method. What ZipFile method is\n",
    "equivalent to File objects’ open() method?\n",
    "\n",
    "= ZipFile Module provides a method called as zipfile.ZipFile() to read and write to zipFiles. \n",
    "it takes arugments lile filename and mode etc zipfile.ZipFile('filename', mode = 'r')"
   ]
  },
  {
   "cell_type": "code",
   "execution_count": null,
   "id": "1712195e",
   "metadata": {},
   "outputs": [],
   "source": [
    "5. Create a programme that searches a folder tree for files with a certain file extension (such as .pdf\n",
    "or .jpg). Copy these files from whatever location they are in to a new folder."
   ]
  },
  {
   "cell_type": "code",
   "execution_count": 29,
   "id": "7d6c14a4",
   "metadata": {},
   "outputs": [],
   "source": [
    "import os\n",
    "import shutil\n",
    "\n",
    "def search_and_copy(source,destination,extensions):\n",
    "    source = os.path.abspath(source)\n",
    "    destination = os.path.abspath(destination)\n",
    "    for foldername, subfolder, filenames in os.walk(source):\n",
    "        print(f'Folder Name ➞ {foldername}',end='\\n\\n')\n",
    "        print(f'Sub Folders ➞ {subfolder}',end='\\n\\n')\n",
    "        print(f'Files ➞ {filenames}',end='\\n\\n')\n",
    "        for filename in filenames:\n",
    "            fileName,extension = os.path.splitext(filename)\n",
    "            if extension in extensions:\n",
    "                targetFile = foldername+os.path.sep+fileName+extension\n",
    "                shutil.copy(targetFile, destination)\n",
    "        print(f'Files copied successfully from {source} to {destination}')\n",
    "    \n",
    "extensions = ['.pdf','.jpg','.ipynb']\n",
    "search_and_copy(source, destination, extensions)"
   ]
  },
  {
   "cell_type": "code",
   "execution_count": null,
   "id": "40998273",
   "metadata": {},
   "outputs": [],
   "source": []
  }
 ],
 "metadata": {
  "kernelspec": {
   "display_name": "Python 3 (ipykernel)",
   "language": "python",
   "name": "python3"
  },
  "language_info": {
   "codemirror_mode": {
    "name": "ipython",
    "version": 3
   },
   "file_extension": ".py",
   "mimetype": "text/x-python",
   "name": "python",
   "nbconvert_exporter": "python",
   "pygments_lexer": "ipython3",
   "version": "3.9.13"
  }
 },
 "nbformat": 4,
 "nbformat_minor": 5
}
