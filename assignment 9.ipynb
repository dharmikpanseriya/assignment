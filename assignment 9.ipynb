{
 "cells": [
  {
   "cell_type": "code",
   "execution_count": null,
   "id": "2540235b",
   "metadata": {},
   "outputs": [],
   "source": [
    "1. To what does a relative path refer?\n",
    "\n",
    "=The relative path is the path to some file with respect to your current working directory (PWD).\n",
    "\n",
    "For example: if Absolute path to a file called stuff.txt is: C:/users/admin/docs/stuff.txt If\n",
    "            my PWD is C:/users/admin/ , then the relative path to stuff.txt would be: docs/stuff.txt\n",
    "Note: PWD + relative path = absolute path"
   ]
  },
  {
   "cell_type": "code",
   "execution_count": null,
   "id": "097c29a4",
   "metadata": {},
   "outputs": [],
   "source": [
    "2. What does an absolute path start with your operating system?\n",
    "\n",
    "In Linux based systems the absolute path starts with /. Where as in Windows based systems \n",
    "absolute path starts with C:"
   ]
  },
  {
   "cell_type": "code",
   "execution_count": null,
   "id": "387ca405",
   "metadata": {},
   "outputs": [],
   "source": [
    "3. What do the functions os.getcwd() and os.chdir() do?\n",
    "\n",
    "= os.getcwd() method tells us the location of current working directory (CWD). Whereas\n",
    "os.chdir() method in Python used to change the current working directory to specified path. \n"
   ]
  },
  {
   "cell_type": "code",
   "execution_count": 1,
   "id": "df970024",
   "metadata": {},
   "outputs": [
    {
     "name": "stdout",
     "output_type": "stream",
     "text": [
      "C:\\Users\\Shree\n",
      "C:\\Users\\dharmik\n"
     ]
    }
   ],
   "source": [
    "import os\n",
    "print(os.getcwd()) # Prints the current Working Directory\n",
    "path = r'C:\\Users\\dharmik'\n",
    "os.chdir(path)\n",
    "print(os.getcwd())"
   ]
  },
  {
   "cell_type": "code",
   "execution_count": null,
   "id": "65c1f265",
   "metadata": {},
   "outputs": [],
   "source": [
    "4. What are the . and .. folders?\n",
    "\n",
    "= . Represents the Current Directory Whereas .. Represents the Parent Directory of the \n",
    "   Current Directory\n",
    "    \n",
    "if the below path is my absolute path:\n",
    "    \n",
    "C:\\\\Users\\\\vishnu\\\\Documents\\\\iNeuron-Assignments\\\\Python Basic Assignment\n",
    "    \n",
    "Then . represents the path C:\\\\Users\\\\dharmik\\\\Documents\\\\iNeuron-Assignments\\\\Python Basic Assignment\n",
    "    \n",
    "Where as .. represents the path C:\\\\Users\\\\dharmik\\\\Documents\\\\iNeuron-Assignments"
   ]
  },
  {
   "cell_type": "code",
   "execution_count": null,
   "id": "48fe2692",
   "metadata": {},
   "outputs": [],
   "source": [
    "5. In C:\\bacon\\eggs\\spam.txt, which part is the dir name, and which part is the base name?\n",
    "    \n",
    "For C:\\bacon\\eggs\\spam.txt\n",
    "    \n",
    "The dir name is C:\\\\bacon\\\\eggs\n",
    "    \n",
    "The Base name is spam.txt"
   ]
  },
  {
   "cell_type": "code",
   "execution_count": 2,
   "id": "2d235a5b",
   "metadata": {},
   "outputs": [
    {
     "name": "stdout",
     "output_type": "stream",
     "text": [
      "C:\\bacon\\eggs\n",
      "spam.txt\n"
     ]
    }
   ],
   "source": [
    "import os\n",
    "path = r'C:\\bacon\\eggs\\spam.txt'\n",
    "print(os.path.dirname(path))\n",
    "print(os.path.basename(path))"
   ]
  },
  {
   "cell_type": "code",
   "execution_count": null,
   "id": "686d863d",
   "metadata": {},
   "outputs": [],
   "source": [
    "6. What are the three “mode” arguments that can be passed to the open() function?\n",
    "\n",
    "A file can be Accessed in python using open() function. open function takes two arguments filename and mode of operation (optional). if mode is not provided the default mode of opening is read mode\n",
    "So, the syntax being: open(filename, mode)\n",
    "    \n",
    "‘r’ – Read Mode: This is the default mode for open(). The file is opened and a pointer is \n",
    "    positioned at the beginning of the file’s content.\n",
    "    \n",
    "‘w’ – Write Mode: Using this mode will overwrite any existing content in a file. If the given \n",
    "    file does not exist, a new one will be created.\n",
    "    \n",
    "‘r+’ – Read/Write Mode: Use this mode if you need to simultaneously read and write to a file.\n",
    "    \n",
    "‘a’ – Append Mode: With this mode the user can append the data without overwriting any already \n",
    "    existing data in the file.\n",
    "    \n",
    "‘a+’ – Append and Read Mode: In this mode you can read and append the data without overwriting \n",
    "    the original file.\n",
    "    \n",
    "‘x’ – Exclusive Creating Mode: This mode is for the sole purpose of creating new files. Use this\n",
    "    mode if you know the file to be written doesn’t exist beforehand."
   ]
  },
  {
   "cell_type": "code",
   "execution_count": null,
   "id": "88bb0eb5",
   "metadata": {},
   "outputs": [],
   "source": [
    "7. What happens if an existing file is opened in write mode?\n",
    "\n",
    " Using this mode will overwrite any existing content in a file. If the given file does not exist,\n",
    "a new one will be created."
   ]
  },
  {
   "cell_type": "code",
   "execution_count": null,
   "id": "2787fa84",
   "metadata": {},
   "outputs": [],
   "source": [
    "8. How do you tell the difference between read() and readlines()?\n",
    "\n",
    "The main difference is that read() will read the whole file at once and then print out the first \n",
    "characters that take up as many bytes as you specify in the parenthesis\n",
    "\n",
    "Whereas the readline() that will read and print out only the first characters that take up as many\n",
    "bytes as you specify in the parenthesis. You may want to use readline() when you're reading files \n",
    "that are too big for your RAM.\n",
    "\n",
    "The read() would treat each character in the file separately, meaning that the iteration would \n",
    "happen for every character.\n",
    "\n",
    "The readline() function, on the other hand, only reads a single line of the file. This means that\n",
    "if the first line of the file were three lines long, the readline() function would only parse (or\n",
    "iterate/operate) on the first line of the file.\n"
   ]
  },
  {
   "cell_type": "code",
   "execution_count": null,
   "id": "16c09abb",
   "metadata": {},
   "outputs": [],
   "source": [
    "9. What data structure does a shelf value resemble?\n",
    "\n",
    " it contains key and values it represents dictionary."
   ]
  },
  {
   "cell_type": "code",
   "execution_count": null,
   "id": "3b3d0eac",
   "metadata": {},
   "outputs": [],
   "source": []
  }
 ],
 "metadata": {
  "kernelspec": {
   "display_name": "Python 3 (ipykernel)",
   "language": "python",
   "name": "python3"
  },
  "language_info": {
   "codemirror_mode": {
    "name": "ipython",
    "version": 3
   },
   "file_extension": ".py",
   "mimetype": "text/x-python",
   "name": "python",
   "nbconvert_exporter": "python",
   "pygments_lexer": "ipython3",
   "version": "3.9.13"
  }
 },
 "nbformat": 4,
 "nbformat_minor": 5
}
