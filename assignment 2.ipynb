{
 "cells": [
  {
   "cell_type": "code",
   "execution_count": null,
   "id": "db1913fa",
   "metadata": {},
   "outputs": [],
   "source": [
    "Q-1. What are the two values of the Boolean data type? How do you write them?\n",
    "\n",
    "The two values of the boolean data type are 'True'and 'False'.\n",
    "\n",
    "A boolean data type is declared with the bool keyword and can only take the values true or false. \n",
    "When the value is returned, true = 1 and false = 0 ."
   ]
  },
  {
   "cell_type": "code",
   "execution_count": null,
   "id": "8cc9395b",
   "metadata": {},
   "outputs": [],
   "source": [
    "Q-2. What are the three different types of Boolean operators?\n",
    "\n",
    "The three different types of Boolean operators are 'and', 'or', and 'not'. These operators are used \n",
    "to compare two Boolean values and to determine the logical relationship between them."
   ]
  },
  {
   "cell_type": "code",
   "execution_count": null,
   "id": "2f941fa5",
   "metadata": {},
   "outputs": [],
   "source": [
    "Q-3. Make a list of each Boolean operator'truth tables (i.e. every possible combination of Boolean\n",
    "values for the operator and what it evaluate ).\n",
    "\n",
    "True and True = True\n",
    "True and False= False\n",
    "False and True= False\n",
    "False and False= False \n",
    "\n",
    "True or True= True\n",
    "True or False= True\n",
    "False or True= True\n",
    "False or False= False\n",
    "\n",
    "not True = False \n",
    "not False= True"
   ]
  },
  {
   "cell_type": "code",
   "execution_count": null,
   "id": "9e053a16",
   "metadata": {},
   "outputs": [],
   "source": [
    "Q-4. What are the values of the following expressions?\n",
    "\n",
    "(5<4) and (3 == 5) = False\n",
    "\n",
    "not (5<4) = True \n",
    "\n",
    "(5<4) or (3 == 5) = False\n",
    "\n",
    "not ((5<4) or (3 == 5)) = True\n",
    "\n",
    "(True and True) and (True == False) = False\n",
    "\n",
    "(not False) or (not True) = True"
   ]
  },
  {
   "cell_type": "code",
   "execution_count": null,
   "id": "bac68d5c",
   "metadata": {},
   "outputs": [],
   "source": [
    "Q-5. What are the six comparison operators?\n",
    "\n",
    "==: equals\n",
    "    \n",
    "!=: not equals\n",
    "    \n",
    "<: less than\n",
    "    \n",
    "<=: less than or equal to\n",
    "    \n",
    ">: greater than\n",
    "    \n",
    ">=: greater than or equal to"
   ]
  },
  {
   "cell_type": "code",
   "execution_count": null,
   "id": "7955c35a",
   "metadata": {},
   "outputs": [],
   "source": [
    "Q-6. How do you tell the difference between the equal to and assignment operators?Describe a\n",
    "condition and when you would use one.\n",
    "\n",
    "The equal to operator (==) is used to compare two values and determine whether they are equal. \n",
    "It is different from the assignment operator (=), which is used to assign a value to a variable.\n",
    "\n",
    "x=5: This is the assignment operator\n",
    "if x==5 : This is the equal to operator"
   ]
  },
  {
   "cell_type": "code",
   "execution_count": null,
   "id": "077bc683",
   "metadata": {},
   "outputs": [],
   "source": [
    "Q-7. Identify the three blocks in this code:\n",
    "\n",
    "spam = 0\n",
    "if spam == 10:\n",
    "    print('eggs') #Block 1\n",
    "if spam > 5:\n",
    "    print('bacon') #Block 2\n",
    "else:\n",
    "    print('ham') #Block 3\n",
    "    print('spam')\n",
    "    print('spam')\n"
   ]
  },
  {
   "cell_type": "code",
   "execution_count": null,
   "id": "a33a32a5",
   "metadata": {},
   "outputs": [],
   "source": [
    "Q-8. Write code that prints Hello if 1 is stored in spam, prints Howdy if 2 is stored in spam, \n",
    "and prints Greetings! if anything else is stored in spam.\n",
    "\n",
    "spam=int(input(\"type a no.\"))\n",
    "if spam==1:\n",
    "    print(\"hello\")\n",
    "elif spam==2:\n",
    "    print(\"howdy\")\n",
    "else :\n",
    "    print(\"greetings !\")\n",
    "    "
   ]
  },
  {
   "cell_type": "code",
   "execution_count": null,
   "id": "06cdcddf",
   "metadata": {},
   "outputs": [],
   "source": [
    "Q-9. If your programme is stuck in an endless loop, what keys you’ll press?\n",
    "\n",
    " If program is stuck in endless loop we will press ctrl+c."
   ]
  },
  {
   "cell_type": "code",
   "execution_count": null,
   "id": "6c90ed23",
   "metadata": {},
   "outputs": [],
   "source": [
    "Q-10. How can you tell the difference between break and continue?\n",
    "\n",
    "The break and continue statements are two different ways to control the flow of a loop in a \n",
    "program. The break statement is used to immediately exit a loop, while the continue statement \n",
    "is used to skip the rest of the current iteration of a loop and move on to the next iteration.\n",
    "\n",
    "example:- use of break\n",
    "    \n",
    "for i in range(0,5):\n",
    "    if i==4:\n",
    "        break\n",
    "    print(i)\n",
    "    \n",
    "example:- use of continue\n",
    "    \n",
    "for i in range(0,5):\n",
    "    if i==4:\n",
    "        continue\n",
    "    print(i)"
   ]
  },
  {
   "cell_type": "code",
   "execution_count": 7,
   "id": "a55750e7",
   "metadata": {},
   "outputs": [
    {
     "name": "stdout",
     "output_type": "stream",
     "text": [
      "0\n",
      "1\n",
      "2\n",
      "3\n",
      "4\n",
      "5\n",
      "6\n",
      "7\n",
      "8\n",
      "9\n",
      "next\n",
      "0\n",
      "1\n",
      "2\n",
      "3\n",
      "4\n",
      "5\n",
      "6\n",
      "7\n",
      "8\n",
      "9\n",
      "next\n",
      "0\n",
      "1\n",
      "2\n",
      "3\n",
      "4\n",
      "5\n",
      "6\n",
      "7\n",
      "8\n",
      "9\n"
     ]
    }
   ],
   "source": [
    "Q-11. In a for loop, what is the difference between range(10), range(0, 10), and range(0, 10, 1)?\n",
    "\n",
    "we can conclude that they all do the same thing. The range(10) call ranges from 0 up to \n",
    "(but not including) 10, range(0, 10) tells the loop to start at 0, and range(0, 10, 1) tells the \n",
    "loop to increase the variable by 1 on each iteration.\n",
    "\n",
    "for i in range(10):\n",
    "    print(i)\n",
    "print('next')    \n",
    "for i in range(0,10):\n",
    "    print(i)\n",
    "print('next')    \n",
    "for i in range(0,10,1):\n",
    "    print(i)"
   ]
  },
  {
   "cell_type": "code",
   "execution_count": 12,
   "id": "78336e56",
   "metadata": {},
   "outputs": [
    {
     "name": "stdout",
     "output_type": "stream",
     "text": [
      "1\n",
      "2\n",
      "3\n",
      "4\n",
      "5\n",
      "6\n",
      "7\n",
      "8\n",
      "9\n",
      "10\n",
      "1\n",
      "2\n",
      "3\n",
      "4\n",
      "5\n",
      "6\n",
      "7\n",
      "8\n",
      "9\n",
      "10\n"
     ]
    }
   ],
   "source": [
    "Q-12. Write a short program that prints the numbers 1 to 10 using a for loop. Then write an \n",
    "      equivalent program that prints the numbers 1 to 10 using a while loop.\n",
    "\n",
    "for i in range(1,11):\n",
    "    print(i)\n",
    "    \n",
    "a=1\n",
    "while a<=10:\n",
    "    print(a)\n",
    "    a+=1"
   ]
  },
  {
   "cell_type": "code",
   "execution_count": null,
   "id": "fcae75af",
   "metadata": {},
   "outputs": [],
   "source": [
    "Q-13. If you had a function named bacon() inside a module named spam, how would you call it after\n",
    "importing spam?\n",
    "\n",
    "This function can be called with spam.bacon()."
   ]
  }
 ],
 "metadata": {
  "kernelspec": {
   "display_name": "Python 3 (ipykernel)",
   "language": "python",
   "name": "python3"
  },
  "language_info": {
   "codemirror_mode": {
    "name": "ipython",
    "version": 3
   },
   "file_extension": ".py",
   "mimetype": "text/x-python",
   "name": "python",
   "nbconvert_exporter": "python",
   "pygments_lexer": "ipython3",
   "version": "3.9.13"
  }
 },
 "nbformat": 4,
 "nbformat_minor": 5
}
