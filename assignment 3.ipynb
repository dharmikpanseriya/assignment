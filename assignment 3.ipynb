{
 "cells": [
  {
   "cell_type": "code",
   "execution_count": null,
   "id": "137adca4",
   "metadata": {},
   "outputs": [],
   "source": [
    "Q1. Why are functions advantageous to have in your programs?\n",
    "\n",
    "First, functions help to organize and modularize our code, making it easier to read and \n",
    "understand. By breaking our code into smaller, self-contained units, we can make our programs \n",
    "more modular and easier to maintain.\n",
    "\n",
    "Second, functions can help us to avoid repeating the same code over and over again. Instead of \n",
    "writing the same code multiple times, we can define a function once and then call it whenever \n",
    "we need to perform that particular task. This makes our code more efficient and reduces the \n",
    "risk of errors.\n",
    "\n",
    "Third, functions can make our code more reusable. Once we have defined a function, we can use \n",
    "it in multiple programs and even share it with other developers. This allows us to reuse and \n",
    "build upon our own code, as well as the code of others."
   ]
  },
  {
   "cell_type": "code",
   "execution_count": null,
   "id": "d5b194e3",
   "metadata": {},
   "outputs": [],
   "source": [
    "Q2. When does the code in a function run: when it's specified or when it's called?\n",
    "    \n",
    "The code in a function runs when the function is called. When we define a function, we specify \n",
    "the code that should be executed when the function is called, but the code itself is not executed\n",
    "until the function is actually called in our program.\n",
    "    "
   ]
  },
  {
   "cell_type": "code",
   "execution_count": null,
   "id": "eb0525c5",
   "metadata": {},
   "outputs": [],
   "source": [
    "Q3. What statement creates a function?\n",
    "\n",
    "def function_name(): creates a functiomn."
   ]
  },
  {
   "cell_type": "code",
   "execution_count": null,
   "id": "4c561170",
   "metadata": {},
   "outputs": [],
   "source": [
    "Q4. What is the difference between a function and a function call?\n",
    "\n",
    "The main difference between a function and a function call is that a function is a block of code \n",
    "that is defined by the programmer, while a function call is an instruction to execute that code. \n",
    "A function can be called multiple times in a program, and each time it is called, the code inside\n",
    "the function is executed.\n",
    "\n",
    "#def of func\n",
    "def my_func(): \n",
    "    pass\n",
    "    \n",
    "my_func() #calling of function"
   ]
  },
  {
   "cell_type": "code",
   "execution_count": null,
   "id": "32bce4f6",
   "metadata": {},
   "outputs": [],
   "source": [
    "Q5. How many global scopes are there in a Python program? How many local scopes?\n",
    "\n",
    "In a Python program, there is only one global scope. However, there can be multiple local scopes.\n",
    "\n",
    "A scope is a part of a program where a particular variable is visible and can be accessed. In \n",
    "Python, a variable is said to be in the global scope if it is defined outside of any function or \n",
    "class. A variable is in a local scope if it is defined inside a function or class."
   ]
  },
  {
   "cell_type": "code",
   "execution_count": null,
   "id": "1bccd17a",
   "metadata": {},
   "outputs": [],
   "source": [
    "Q6. What happens to variables in a local scope when the function call returns?\n",
    "\n",
    "When a function call returns, the local scope of that function is destroyed, and the variables \n",
    "in that scope are no longer available."
   ]
  },
  {
   "cell_type": "code",
   "execution_count": null,
   "id": "df650abf",
   "metadata": {},
   "outputs": [],
   "source": [
    "Q7. What is the concept of a return value? Is it possible to have a return value in an expression?\n",
    "\n",
    "A return value is the value that a function returns to the caller when it is called.a return \n",
    "value can be used as part of an expression."
   ]
  },
  {
   "cell_type": "code",
   "execution_count": null,
   "id": "050df2da",
   "metadata": {},
   "outputs": [],
   "source": [
    "Q8. If a function does not have a return statement, what is the return value of a call to that \n",
    "    function?\n",
    "\n",
    "If a function does not have a return statement, the return value of a call to that function is \n",
    "None."
   ]
  },
  {
   "cell_type": "code",
   "execution_count": null,
   "id": "6a5fc830",
   "metadata": {},
   "outputs": [],
   "source": [
    "Q9. How do you make a function variable refer to the global variable?\n",
    "\n",
    "To make function variable as a global variable you can use the global keyword to declare which \n",
    "variables are global."
   ]
  },
  {
   "cell_type": "code",
   "execution_count": null,
   "id": "1b68cc73",
   "metadata": {},
   "outputs": [],
   "source": [
    "Q10. What is the data type of None?\n",
    "\n",
    " The data type of None is NoneType."
   ]
  },
  {
   "cell_type": "code",
   "execution_count": null,
   "id": "ee6059ea",
   "metadata": {},
   "outputs": [],
   "source": [
    "Q11. What does the sentence import areallyourpetsnamederic do?\n",
    "\n",
    "That import statement imports a module named areallyourpetsnamederic."
   ]
  },
  {
   "cell_type": "code",
   "execution_count": null,
   "id": "e4f101c3",
   "metadata": {},
   "outputs": [],
   "source": [
    "Q12. If you had a bacon() feature in a spam module, what would you call it after importing spam?\n",
    "\n",
    "import spam\n",
    "spam.bacon()"
   ]
  },
  {
   "cell_type": "code",
   "execution_count": null,
   "id": "3e856a3a",
   "metadata": {},
   "outputs": [],
   "source": [
    "Q13. What can you do to save a programme from crashing if it encounters an error?\n",
    "\n",
    "we can use try and except statements to catch and handle exceptions."
   ]
  },
  {
   "cell_type": "code",
   "execution_count": null,
   "id": "9f9822d5",
   "metadata": {},
   "outputs": [],
   "source": [
    "Q14. What is the purpose of the try clause? What is the purpose of the except clause?\n",
    "\n",
    "The try clause is used to define a block of code that may raise an exception. The except clause \n",
    "is used to define a block of code that should be executed if an exception is raised in the try \n",
    "clause."
   ]
  }
 ],
 "metadata": {
  "kernelspec": {
   "display_name": "Python 3 (ipykernel)",
   "language": "python",
   "name": "python3"
  },
  "language_info": {
   "codemirror_mode": {
    "name": "ipython",
    "version": 3
   },
   "file_extension": ".py",
   "mimetype": "text/x-python",
   "name": "python",
   "nbconvert_exporter": "python",
   "pygments_lexer": "ipython3",
   "version": "3.9.13"
  }
 },
 "nbformat": 4,
 "nbformat_minor": 5
}
