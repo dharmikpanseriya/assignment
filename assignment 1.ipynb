{
 "cells": [
  {
   "cell_type": "code",
   "execution_count": null,
   "id": "7085e86f",
   "metadata": {},
   "outputs": [],
   "source": [
    "Q-1. In the below elements which of them are values or an expression? eg:- values can be\n",
    "integer or string and expressions will be mathematical operators.\n",
    "\n",
    "* = expression\n",
    "'hello'= value\n",
    "-87.8 = value\n",
    "- = expression\n",
    "/ = expression\n",
    "6 = value"
   ]
  },
  {
   "cell_type": "code",
   "execution_count": null,
   "id": "13172296",
   "metadata": {},
   "outputs": [],
   "source": [
    "Q-2. What is the difference between string and variable?\n",
    "\n",
    "A string is a data type that is used to represent text, while a variable is a named storage \n",
    "location that is used to hold data.\n",
    "\n",
    "example:- a = 'ineuron'\n",
    "          a is a variable and 'ineuron' is a string."
   ]
  },
  {
   "cell_type": "code",
   "execution_count": null,
   "id": "07b7869a",
   "metadata": {},
   "outputs": [],
   "source": [
    "Q-3.Describe three different data types.\n",
    "\n",
    "Strings: strings are used to represent text in Python. They are typically enclosed in quotation \n",
    "         marks and can contain letters, numbers, and special characters.\n",
    "\n",
    "List: A list is a data type that is used to store an ordered collection of items. Each item in \n",
    "      a list can be of any data type, and the items in a list are separated by commas. Lists \n",
    "      are enclosed in square brackets.      \n",
    "    \n",
    "Tuple: A tuple is similar to a list, but it is an immutable data type, which means that the \n",
    "       items in a tuple cannot be changed once the tuple has been created. Tuples are also \n",
    "        enclosed in parentheses instead of square brackets.   \n",
    "            \n",
    "example:- string = 'ineuron'\n",
    "          list = [12,'ineuron',2.3,5+6j]\n",
    "          tuple = (12,'ineuron',2.3,5+6j)"
   ]
  },
  {
   "cell_type": "code",
   "execution_count": null,
   "id": "6fafd1b2",
   "metadata": {},
   "outputs": [],
   "source": [
    "Q-4. What is an expression made up of? What do all expressions do?\n",
    "\n",
    "An expression is a combination of operators and operands that is interpreted to produce some \n",
    "other value. it is a sequence of operators, operands, and other elements that specifies a \n",
    "computation or action to be performed.\n",
    "\n",
    "All expressions produce a result, which is known as the expression's value. The value \n",
    "of an expression is determined by evaluating the operators and operands in the expression.\n",
    "\n",
    "example:- x=2 y=3\n",
    "          x+y=5\n",
    "          x*y=6"
   ]
  },
  {
   "cell_type": "code",
   "execution_count": null,
   "id": "6b60002b",
   "metadata": {},
   "outputs": [],
   "source": [
    "Q-5. This assignment statements, like spam = 10. What is the difference between an\n",
    "expression and a statement?\n",
    "\n",
    "an expression is a sequence of operators, operands, and other elements that specifies a \n",
    "computation or action to be performed.\n",
    "\n",
    "example:- the expression 'x + y' specifies a computation to add the values of 'x' and 'y' together.\n",
    "    \n",
    "a statement is a unit of code that specifies an action to be performed. In contrast to \n",
    "expressions, which are evaluated to produce a result, statements are executed by the interpreter \n",
    "to perform some action.\n",
    "\n",
    "example:- the statement 'spam = 10' assigns the value '10' to the variable spam. This statement \n",
    "          does not produce a result, but it specifies an action to be performed."
   ]
  },
  {
   "cell_type": "code",
   "execution_count": null,
   "id": "d60e339d",
   "metadata": {},
   "outputs": [],
   "source": [
    "Q-6. After running the following code, what does the variable bacon contain?\n",
    "bacon = 22\n",
    "bacon + 1\n",
    "\n",
    "After running the following code, the variable bacon contains '23'"
   ]
  },
  {
   "cell_type": "code",
   "execution_count": null,
   "id": "a4eebc12",
   "metadata": {},
   "outputs": [],
   "source": [
    "Q-7. What should the values of the following two terms be?\n",
    "\n",
    "'spam'+'spamspam' = 'spamspamspam'\n",
    "\n",
    "'spam'*3 = 'spamspamspam'"
   ]
  },
  {
   "cell_type": "code",
   "execution_count": null,
   "id": "e905dfc3",
   "metadata": {},
   "outputs": [],
   "source": [
    "Q-8. Why is eggs a valid variable name while 100 is invalid?\n",
    "\n",
    "Because variable names cannot begin with a number.\n"
   ]
  },
  {
   "cell_type": "code",
   "execution_count": null,
   "id": "324d353a",
   "metadata": {},
   "outputs": [],
   "source": [
    "Q-9. What three functions can be used to get the integer, floating-point number, or string\n",
    "version of a value?\n",
    "\n",
    "The int() , float() , and str( ) functions will evaluate to the integer, floating-point number, \n",
    "and string versions of the value passed to them."
   ]
  },
  {
   "cell_type": "code",
   "execution_count": null,
   "id": "6b6319f4",
   "metadata": {},
   "outputs": [],
   "source": [
    "Q-10. Why does this expression cause an error? How can you fix it?\n",
    "\n",
    "'i have eaten'+ 99 + 'burritos'\n",
    "\n",
    "The expression causes an error because 99 is an integer, and only strings can be concatenated \n",
    "to other strings with the + operator. The correct way is I have eaten ' + str(99) + ' burritos.\n"
   ]
  }
 ],
 "metadata": {
  "kernelspec": {
   "display_name": "Python 3 (ipykernel)",
   "language": "python",
   "name": "python3"
  },
  "language_info": {
   "codemirror_mode": {
    "name": "ipython",
    "version": 3
   },
   "file_extension": ".py",
   "mimetype": "text/x-python",
   "name": "python",
   "nbconvert_exporter": "python",
   "pygments_lexer": "ipython3",
   "version": "3.9.13"
  }
 },
 "nbformat": 4,
 "nbformat_minor": 5
}
